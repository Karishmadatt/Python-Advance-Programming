{
 "metadata": {
  "language_info": {
   "codemirror_mode": {
    "name": "ipython",
    "version": 3
   },
   "file_extension": ".py",
   "mimetype": "text/x-python",
   "name": "python",
   "nbconvert_exporter": "python",
   "pygments_lexer": "ipython3",
   "version": "3.8.8"
  },
  "orig_nbformat": 4,
  "kernelspec": {
   "name": "python3",
   "display_name": "Python 3.8.8 64-bit ('kdsem4': conda)"
  },
  "interpreter": {
   "hash": "f638250139be9a7c4fc7129375f7add91c1e67f6b205156f1b8d88bd9668eabc"
  }
 },
 "nbformat": 4,
 "nbformat_minor": 2,
 "cells": [
  {
   "source": [
    "1. Write a function that takes a list of lists and returns the value of all of the\n",
    "symbols in it, where each symbol adds or takes something from the total\n",
    "score. Symbol values:\n",
    "#= 5\n",
    "O = 3\n",
    "X = 1\n",
    "! = -1\n",
    "!! = -3\n",
    "!!! = -5\n",
    "A list of lists containing 2 #s, a O, and a !!! would equal (0 + 5 + 5 + 3 - 5) 8.\n",
    "If the final score is negative, return 0 (e.g. 3 #s, 3 !!s, 2 !!!s and a X would be\n",
    "(0 + 5 + 5 + 5 - 3 - 3 - 3 - 5 - 5 + 1) -3, so return 0."
   ],
   "cell_type": "markdown",
   "metadata": {}
  },
  {
   "cell_type": "code",
   "execution_count": null,
   "metadata": {},
   "outputs": [],
   "source": [
    "def fun():\n",
    "    grid_len=int(input(\"Enter the grid_len: \"))\n",
    "    dict={\n",
    "            '#': 5,'O':3,'X':1,'!':-1,'!!':-3,'!!!':-5\n",
    "        }\n",
    "    s = [[input(\"Enter number: \") for _ in range(grid_len)] for _ in range(grid_len)]\n",
    "    c=0\n",
    "    for i in range (len(s)):\n",
    "        for j in range (len(s[i])):\n",
    "            c+=dict[s[i][j]]\n",
    "    if c>0:\n",
    "        print(c)\n",
    "    else:\n",
    "        print(0)\n",
    "\n",
    "if __name__ == '__main__':\n",
    "    fun()"
   ]
  },
  {
   "source": [
    "2. Create a function that takes a variable number of arguments, each\n",
    "argument representing the number of items in a group, and returns the\n",
    "number of permutations (combinations) of items that you could get by taking\n",
    "one item from each group."
   ],
   "cell_type": "markdown",
   "metadata": {}
  },
  {
   "cell_type": "code",
   "execution_count": null,
   "metadata": {},
   "outputs": [],
   "source": [
    "def fun():\n",
    "    ans=1 \n",
    "    lst  = list(map(int, input().split() ))\n",
    "    for num in lst:\n",
    "        ans*=num\n",
    "    print(ans)\n",
    "\n",
    "if __name__ == \"__main__\":\n",
    "    fun()"
   ]
  },
  {
   "source": [
    "3. Create a function that takes a string as an argument and returns the Morse\n",
    "code equivalent."
   ],
   "cell_type": "markdown",
   "metadata": {}
  },
  {
   "cell_type": "code",
   "execution_count": null,
   "metadata": {},
   "outputs": [],
   "source": [
    "char_to_dots = {\n",
    "'A': '.-', 'B': '-...', 'C': '-.-.', 'D': '-..', 'E': '.', 'F': '..-.',\n",
    "'G': '--.', 'H': '....', 'I': '..', 'J': '.---', 'K': '-.-', 'L': '.-..',\n",
    "'M': '--', 'N': '-.', 'O': '---', 'P': '.--.', 'Q': '--.-', 'R': '.-.',\n",
    "'S': '...', 'T': '-', 'U': '..-', 'V': '...-', 'W': '.--', 'X': '-..-',\n",
    "'Y': '-.--', 'Z': '--..', ' ': ' ', '0': '-----',\n",
    "'1': '.----', '2': '..---', '3': '...--', '4': '....-', '5': '.....',\n",
    "'6': '-....', '7': '--...', '8': '---..', '9': '----.',\n",
    "'&': '.-...', \"'\": '.----.', '@': '.--.-.', ')': '-.--.-', '(': '-.--.',\n",
    "':': '---...', ',': '--..--', '=': '-...-', '!': '-.-.--', '.': '.-.-.-',\n",
    "'-': '-....-', '+': '.-.-.', '\"': '.-..-.', '?': '..--..', '/': '-..-.'\n",
    "}\n",
    "def fun():\n",
    "    a=input()\n",
    "    b=a.upper()\n",
    "    c=''\n",
    "    for k in b:\n",
    "        if k!=' ':\n",
    "            c+=char_to_dots[k]+' '\n",
    "        else:\n",
    "            c+=' '\n",
    "    print(c)\n",
    "\n",
    "if __name__ == \"__main__\":\n",
    "    fun()\n"
   ]
  },
  {
   "source": [
    "4. Write a function that takes a number and returns True if it's a prime; False\n",
    "otherwise. The number can be 2^64-1 (2 to the power of 63, not XOR). With\n",
    "the standard technique it would be O(2^64-1), which is much too large for the\n",
    "10 second time limit."
   ],
   "cell_type": "markdown",
   "metadata": {}
  },
  {
   "cell_type": "code",
   "execution_count": null,
   "metadata": {},
   "outputs": [],
   "source": [
    "import math\n",
    "def prime():\n",
    "    num = int(input()) \n",
    "\n",
    "    is_prime = True\n",
    "\n",
    "    for divisor in range( 2 , math.ceil( math.sqrt(num) )+1  ):\n",
    "        if num % divisor ==0  and num!=2:\n",
    "            is_prime = False \n",
    "            break\n",
    "\n",
    "    print(\"True\" if is_prime else \"False\")\n",
    "\n",
    "if __name__==\"__main__\":\n",
    "    prime()\n"
   ]
  },
  {
   "source": [
    "5. Create a function that converts a word to a bitstring and then to a boolean\n",
    "list based on the following criteria:\n",
    "1. Locate the position of the letter in the English alphabet (from 1 to 26).\n",
    "2. Odd positions will be represented as 1 and 0 otherwise.\n",
    "3. Convert the represented positions to boolean values, 1 for True and 0\n",
    "for False.\n",
    "4. Store the conversions into an array."
   ],
   "cell_type": "markdown",
   "metadata": {}
  },
  {
   "cell_type": "code",
   "execution_count": null,
   "metadata": {},
   "outputs": [],
   "source": [
    "def fun():\n",
    "    arr = []\n",
    "\n",
    "    for x in input() :\n",
    "        v = ord(x)\n",
    "        if( (v>=65 and v<=90) ) :\n",
    "            ans = v-64\n",
    "        elif ( v>=97 and v<=122 ) :\n",
    "            ans = v-96\n",
    "        arr.append(\"False\" if ans%2==0  else \"True\")\n",
    "    print(arr)\n",
    "\n",
    "if __name__==\"__main__\":\n",
    "    fun()"
   ]
  },
  {
   "cell_type": "code",
   "execution_count": null,
   "metadata": {},
   "outputs": [],
   "source": []
  }
 ]
}